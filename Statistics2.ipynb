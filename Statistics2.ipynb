{
  "nbformat": 4,
  "nbformat_minor": 0,
  "metadata": {
    "colab": {
      "provenance": []
    },
    "kernelspec": {
      "name": "python3",
      "display_name": "Python 3"
    },
    "language_info": {
      "name": "python"
    }
  },
  "cells": [
    {
      "cell_type": "code",
      "execution_count": null,
      "metadata": {
        "id": "JUtsr0HpaMfv"
      },
      "outputs": [],
      "source": []
    },
    {
      "cell_type": "markdown",
      "source": [
        "#1.What is a random variable in probability theory?\n",
        "- A function that assigns a set of possible values from a random experiment is stored in a variable , that is called Random Variable."
      ],
      "metadata": {
        "id": "-jkzcmi8aX5q"
      }
    },
    {
      "cell_type": "markdown",
      "source": [
        "#2. What are the types of random variables?\n",
        "- Random variables are classified into two main types: Discrete (taking on a finite or countably infinite number of values) and Continuous (taking on any value within a given range)"
      ],
      "metadata": {
        "id": "Boc7LF1wc8aq"
      }
    },
    {
      "cell_type": "markdown",
      "source": [
        "#3. What is the difference between discrete and continuous distributions?\n",
        "- Discrete distributions have countable, distinct outcomes (like the number of heads in coin flips), while continuous distributions have values within a range (like height or weight)."
      ],
      "metadata": {
        "id": "5j2eHN13ducS"
      }
    },
    {
      "cell_type": "markdown",
      "source": [
        "#4. What are probability distribution functions (PDF)?\n",
        "- Probability Distribution function refers to the function that gives the probability of all possible values of a random variable.By using  probability distribution function , the outcomes of any random event can be drawn in the form of distribution."
      ],
      "metadata": {
        "id": "ZxVNvrS2eoaO"
      }
    },
    {
      "cell_type": "markdown",
      "source": [
        "#5. How do cumulative distribution functions (CDF) differ from probability distribution functions (PDF)?\n",
        "- A probability typically refers to the likelihood of a specific event occurring within a given set of outcomes. For example, if you're rolling a fair six-sided die, the probability of rolling a 4 is 1/6.\n",
        "On the other hand, a cumulative distribution function (CDF) gives the probability that a random variable X takes on a value less than or equal to a certain point x.It accumulates the probabilities  along the values of X.\n"
      ],
      "metadata": {
        "id": "iGIoi3S_igVb"
      }
    },
    {
      "cell_type": "markdown",
      "source": [
        "#6. What is a discrete uniform distribution?\n",
        "- When probability of each outcome of any random experiment is equal and the outcomes are discrete in nature , then it is called discrete uniform distribution.This is represented by plot.\n"
      ],
      "metadata": {
        "id": "CBhHkVwopi8j"
      }
    },
    {
      "cell_type": "markdown",
      "source": [
        "#7. What are the key properties of a Bernoulli distribution?\n",
        "- Key properties of Bernoulli distribution are\n",
        "   * No of trial is finite\n",
        "   * Each trial is independent of theor previous occurances\n",
        "   * Each trial has only two outcomes\n",
        "   * Probability of each output has the same value for every trial"
      ],
      "metadata": {
        "id": "ubIKGGJzEhxP"
      }
    },
    {
      "cell_type": "markdown",
      "source": [
        "#8.What is the binomial distribution, and how is it used in probability?\n",
        "- The binomial distribution is a discrete probability distribution that models the probability of a certain number of successes(or failures) in a fixed number of independent trials, each with the same probability of success(or failures). It is used to calculate probabilities in scenarios with two possible outcomes (success or failure)."
      ],
      "metadata": {
        "id": "Cq3eetk4HlTs"
      }
    },
    {
      "cell_type": "markdown",
      "source": [
        "#9.What is the Poisson distribution and where is it applied ?\n",
        "- The Poisson distribution is a discrete probability distribution that models the probability of a certain number of events occurring within a fixed interval of time or space, given that these events occur independently and at a constant average rate.\n",
        "- It is used in various fields to predict or explain the number of occurrences of events, such as  arrivals at temple/airport/hospital/Bank/Railway station/cinema hall/restaurant , to predict no of accidents  in a busy route  or disease cases."
      ],
      "metadata": {
        "id": "a87XtOWoVrTc"
      }
    },
    {
      "cell_type": "markdown",
      "source": [
        "#10. What is a continuous uniform distribution?\n",
        "- A continuous uniform probability distribution is the distribution that has infinite number of values defined in a soecified range ."
      ],
      "metadata": {
        "id": "OGwPJnhiFK0v"
      }
    },
    {
      "cell_type": "markdown",
      "source": [
        "#11. What are the characteristics of a normal distribution?\n",
        "- The characteristics of the normal distribution are given below :\n",
        "  * Normal distribution is always symmetrical about its mean value.\n",
        "  * Mean , Median and Mode lie at the same point,\n",
        "  * Skewness of the normal distribution is zero."
      ],
      "metadata": {
        "id": "-RG7GmC7IoZy"
      }
    },
    {
      "cell_type": "markdown",
      "source": [
        "#12. What is the standard normal distribution, and why is it important?\n",
        "- Standard Normal distribution is a special normal distribution where mean value is always zero and standard devialtion value is always 1 .\n",
        "* It is used for simplifying statistical calculations and comparisons across datasets.  "
      ],
      "metadata": {
        "id": "nNWjljsJlyCy"
      }
    },
    {
      "cell_type": "markdown",
      "source": [
        "#13. What is the Central Limit Theorem (CLT), and why is it critical in statistics?\n",
        "- The Central Limit Theorem (CLT) is a fundamental statistical concept stating that the distribution of sample means will approximate a normal distribution as the sample size increases, regardless of the original population distribution's shape. This is critical because it allows for statistical inferences and analysis using the normal distribution, even with non-normal data.\n"
      ],
      "metadata": {
        "id": "QLswKw-9sQmI"
      }
    },
    {
      "cell_type": "markdown",
      "source": [
        "#14. How does the Central Limit Theorem relate to the normal distribution?\n",
        "- The Central Limit Theorem (CLT) establishes that the distribution of sample means approaches a normal distribution as the sample size increases, regardless of the original population's distribution."
      ],
      "metadata": {
        "id": "bHwYBnaKu7i-"
      }
    },
    {
      "cell_type": "markdown",
      "source": [
        "#15. What is the application of Z statistics in hypothesis testing?\n",
        "- In hypothesis testing, Z-statistics (or Z-tests) are used to determine if a sample mean is significantly different from a population mean or if there's a significant difference between two population means, particularly when the population standard deviation is known or the sample size is large."
      ],
      "metadata": {
        "id": "FDEF5ettxRP6"
      }
    },
    {
      "cell_type": "markdown",
      "source": [
        "#16.How do you calculate a Z-score, and what does it represent?\n",
        "- A z-score, calculated as (x - μ) / σ, where x is the specific data point , μ is the mean of all dat points of the whole population and σ is the standard deviation of the data points of the population, represents how many standard deviations a data point (x) is away from the mean (μ) of a dataset, with a positive z-score indicating above the mean and a negative z-score below."
      ],
      "metadata": {
        "id": "m7gsJr1qz4r4"
      }
    },
    {
      "cell_type": "markdown",
      "source": [
        "#17. What are point estimates and interval estimates in statistics?\n",
        "- In statistics, a point estimate is a single value used to estimate an unknown population parameter, while an interval estimate provides a range of values within which the population parameter is likely to fall."
      ],
      "metadata": {
        "id": "jztjefCa2zCv"
      }
    },
    {
      "cell_type": "markdown",
      "source": [
        "#18.What is the significance of confidence intervals in statistical analysis?\n",
        "- Confidence intervals are crucial in statistical analysis because they provide a range of  values for an unknown population parameter, allowing researchers to estimate the true value with a certain level of confidence, rather than just a single point estimate."
      ],
      "metadata": {
        "id": "JfDEw2GeRXZB"
      }
    },
    {
      "cell_type": "markdown",
      "source": [
        "#19.What is the relationship between a Z-score and a confidence interval?\n",
        "- A Z-score, which measures how many standard deviations a data point is from the mean, is used to construct confidence intervals, determining the range within which a population parameter is likely to fall with a certain level of confidence."
      ],
      "metadata": {
        "id": "zV6MHS6ZSH2b"
      }
    },
    {
      "cell_type": "markdown",
      "source": [
        "#20.How are Z-scores used to compare different distributions?\n",
        "- Z-scores allow for comparing data points across different distributions by standardizing them to a common scale, enabling meaningful comparisons even when the original data sets have different means and standard deviations."
      ],
      "metadata": {
        "id": "-1lfAFMpSeJl"
      }
    },
    {
      "cell_type": "markdown",
      "source": [
        "#21. What are the assumptions for applying the Central Limit Theorem?\n",
        "- To apply the Central Limit Theorem (CLT), we need to assume that the samples are independent, identically distributed random variables, and that the population has a finite variance.\n"
      ],
      "metadata": {
        "id": "nOy4qFmtSypx"
      }
    },
    {
      "cell_type": "markdown",
      "source": [
        "#22.What is the concept of expected value in a probability distribution?\n",
        "- In a probability distribution, the expected value  is the weighted average of all possible outcomes, where each outcome is weighted by its probability of occurrence."
      ],
      "metadata": {
        "id": "p0ka3Q1sTHEC"
      }
    },
    {
      "cell_type": "markdown",
      "source": [
        "#23. How does a probability distribution relate to the expected outcome of a random variable?\n",
        "- A probability distribution describes the likelihood of different outcomes for a random variable, and the expected outcome is calculated by averaging all possible values, each weighted by its probability."
      ],
      "metadata": {
        "id": "o-QeQ_-WTbL0"
      }
    },
    {
      "cell_type": "code",
      "source": [
        "#1.Write a Python program to generate a random variable and display its value\n",
        "import random\n",
        "# Generate random variable\n",
        "random_variable = random.randint(1, 100)\n",
        "# Display the value\n",
        "print(f\"The random variable generated is: {random_variable}\")\n"
      ],
      "metadata": {
        "id": "LglTpvB9Iu3i"
      },
      "execution_count": null,
      "outputs": []
    },
    {
      "cell_type": "code",
      "source": [
        "#2. Generate a discrete uniform distribution using Python and plot the probability mass function (PMF)\n",
        "import numpy as np\n",
        "import matplotlib.pyplot as plt\n",
        "from scipy.stats import randint\n",
        "\n",
        "# Define parameters for the discrete uniform distribution\n",
        "a, b = 1, 10  # Uniform integers from 1 to 10\n",
        "\n",
        "# Generate the discrete uniform distribution\n",
        "x = np.arange(a, b+1)\n",
        "p = randint.pmf(x, a, b+1)  # PMF of the distribution\n",
        "\n",
        "# Plot the PMF\n",
        "plt.bar(x, p, color='blue', alpha=0.6, edgecolor='black')\n",
        "plt.xlabel('X values')\n",
        "plt.ylabel('Probability')\n",
        "plt.title('Probability Mass Function of a Discrete Uniform Distribution')\n",
        "plt.xticks(x)\n",
        "plt.grid(axis='y', linestyle='--', alpha=0.7)\n",
        "plt.show()\n"
      ],
      "metadata": {
        "id": "oyUVRKzVMdcA"
      },
      "execution_count": null,
      "outputs": []
    },
    {
      "cell_type": "code",
      "source": [
        "#3.  Write a Python function to calculate the probability distribution function (PDF) of a Bernoulli distribution\n",
        "def bernoulli_pdf(x, p):\n",
        "#    Parameters:\n",
        "#   x (int): The outcome (0 or 1).\n",
        "#    p (float): The probability of success (0 ≤ p ≤ 1).\n",
        "  return (p ** x) * ((1 - p) ** (1 - x))\n",
        "p = 0.7\n",
        "print(bernoulli_pdf(0, p))  # Probability of failure\n",
        "print(bernoulli_pdf(1, p))  # Probability of success\n"
      ],
      "metadata": {
        "id": "a-Q2g-cENTAy"
      },
      "execution_count": null,
      "outputs": []
    },
    {
      "cell_type": "code",
      "source": [
        "#4.Write a Python script to simulate a binomial distribution with n=10 and p=0.5, then plot its histogram\n",
        "import numpy as np\n",
        "import matplotlib.pyplot as plt\n",
        "import seaborn as sns\n",
        "\n",
        "# Parameters\n",
        "n = 10  # Number of trials\n",
        "p = 0.5  # Probability of success\n",
        "size = 10000  # Number of simulations\n",
        "\n",
        "# Simulate binomial distribution\n",
        "binomial_samples = np.random.binomial(n, p, size)\n",
        "\n",
        "# Plot histogram\n",
        "plt.figure(figsize=(8, 5))\n",
        "sns.histplot(binomial_samples, bins=np.arange(n+2)-0.5, kde=False, stat=\"probability\", color=\"blue\", edgecolor=\"black\")\n",
        "plt.xticks(range(n+1))\n",
        "plt.xlabel(\"Number of Successes\")\n",
        "plt.ylabel(\"Probability\")\n",
        "plt.title(f\"Binomial Distribution (n={n}, p={p})\")\n",
        "plt.show()\n"
      ],
      "metadata": {
        "id": "vXgtDzpbQc-k"
      },
      "execution_count": null,
      "outputs": []
    },
    {
      "cell_type": "code",
      "source": [
        "#5.  Create a Poisson distribution and visualize it using Python\n",
        "\n",
        "from scipy.stats import poisson\n",
        "import numpy as np\n",
        "import matplotlib.pyplot as plt\n",
        "\n",
        "x = np.arange(0, 100, 1)\n",
        "\n",
        "# poisson distribution data for y-axis\n",
        "y = poisson.pmf(x, mu=40, loc=10)\n",
        "\n",
        "# plotting the graph\n",
        "plt.plot(x, y)\n",
        "\n",
        "# showing the graph\n",
        "plt.show()\n"
      ],
      "metadata": {
        "id": "uhEpncMVFqLA"
      },
      "execution_count": null,
      "outputs": []
    },
    {
      "cell_type": "code",
      "source": [
        "#6.> Write a Python program to calculate and plot the cumulative distribution function (CDF) of a discrete uniform distribution\n",
        "import numpy as np\n",
        "import matplotlib.pyplot as plt\n",
        "from scipy.stats import randint\n",
        "\n",
        "def plot_cdf(a, b):\n",
        "    x = np.arange(a, b+1)  # Values within the range\n",
        "    cdf_values = randint.cdf(x, a, b+1)  # Compute CDF values\n",
        "\n",
        "    plt.step(x, cdf_values, where='post', marker='o', linestyle='-', color='b', label='CDF')\n",
        "    plt.xlabel('x')\n",
        "    plt.ylabel('P(X ≤ x)')\n",
        "    plt.title(f'Cumulative Distribution Function (CDF)\\nDiscrete Uniform ({a}, {b})')\n",
        "    plt.xticks(x)\n",
        "    plt.yticks(np.linspace(0, 1, b-a+1))\n",
        "    plt.show()\n",
        "\n",
        "plot_cdf(1, 6)  # Simulating a fair 6-sided die\n"
      ],
      "metadata": {
        "id": "fz9P7CyDgDH7"
      },
      "execution_count": null,
      "outputs": []
    },
    {
      "cell_type": "markdown",
      "source": [],
      "metadata": {
        "id": "oXidiXUei7S-"
      }
    },
    {
      "cell_type": "code",
      "source": [
        "#7.  Generate a continuous uniform distribution using NumPy and visualize it\n",
        "import numpy as np\n",
        "import matplotlib.pyplot as plt\n",
        "\n",
        "# Generate 10,000 random numbers from a uniform distribution between 0 and 1\n",
        "data = np.random.uniform(low=0.0, high=1.0, size=10000)\n",
        "\n",
        "# Plot histogram\n",
        "plt.hist(data, bins=50, density=True, alpha=0.7, color='blue', edgecolor='black')\n",
        "\n",
        "# Labels and title\n",
        "plt.xlabel(\"Value\")\n",
        "plt.ylabel(\"Density\")\n",
        "plt.title(\"Continuous Uniform Distribution (0,1)\")\n",
        "\n",
        "# Show the plot\n",
        "plt.show()\n"
      ],
      "metadata": {
        "id": "mEEnPvc4i1u-"
      },
      "execution_count": null,
      "outputs": []
    },
    {
      "cell_type": "code",
      "source": [
        "#8. Simulate data from a normal distribution and plot its histogram\n",
        "import numpy as np\n",
        "import matplotlib.pyplot as plt\n",
        "\n",
        "# Generating some random data\n",
        "# for an example\n",
        "data = np.random.normal(170, 10, 250)\n",
        "\n",
        "# Plotting the histogram.\n",
        "plt.hist(data, bins=25, density=True, alpha=0.6, color='b')\n",
        "\n",
        "plt.show()\n"
      ],
      "metadata": {
        "id": "Vx8nEblFkrJQ"
      },
      "execution_count": null,
      "outputs": []
    },
    {
      "cell_type": "code",
      "source": [
        "#9.Write a Python function to calculate Z-scores from a dataset and plot them\n",
        "import numpy as np\n",
        "import matplotlib.pyplot as plt\n",
        "import scipy.stats as stats\n",
        "\n",
        "def calculate_z_scores(data):\n",
        "    mean = np.mean(data)\n",
        "    std_dev = np.std(data, ddof=1)  # Using sample standard deviation\n",
        "    z_scores = [(x - mean) / std_dev for x in data]\n",
        "    return z_scores\n",
        "\n",
        "def plot_z_scores(z_scores):\n",
        "    plt.figure(figsize=(8, 5))\n",
        "\n",
        "    # Plot histogram of Z-scores\n",
        "    plt.hist(z_scores, bins=20, density=True, alpha=0.6, color='b', label='Z-score Distribution')\n",
        "\n",
        "    # Plot standard normal distribution curve\n",
        "    x = np.linspace(-4, 4, 1000)\n",
        "    y = stats.norm.pdf(x, 0, 1)\n",
        "    plt.plot(x, y, 'r-', lw=2, label='Standard Normal Curve')\n",
        "\n",
        "    plt.axvline(x=0, color='k', linestyle='dashed', linewidth=1, label='Mean (Z=0)')\n",
        "    plt.xlabel(\"Z-score\")\n",
        "    plt.ylabel(\"Density\")\n",
        "    plt.title(\"Z-score Distribution and Standard Normal Curve\")\n",
        "    plt.legend()\n",
        "    plt.grid()\n",
        "    plt.show()\n",
        "\n",
        "# Example usage\n",
        "data = np.random.normal(50, 10, 100)  # Generate random dataset\n",
        "z_scores = calculate_z_scores(data)\n",
        "plot_z_scores(z_scores)\n"
      ],
      "metadata": {
        "id": "wRxJxj_hkzkf"
      },
      "execution_count": null,
      "outputs": []
    },
    {
      "cell_type": "code",
      "source": [
        "#10.Implement the Central Limit Theorem (CLT) using Python for a non-normal distribution\n",
        "import numpy as np\n",
        "import matplotlib.pyplot as plt\n",
        "\n",
        "def central_limit_theorem(sample_size, num_samples):\n",
        "    means = []\n",
        "\n",
        "    for _ in range(num_samples):\n",
        "        sample = np.random.uniform(low=0, high=10, size=sample_size)  # Non-normal distribution (Uniform)\n",
        "        means.append(np.mean(sample))\n",
        "\n",
        "    plt.hist(means, bins=30, density=True, alpha=0.7, color='blue', edgecolor='black')\n",
        "    plt.title(f'Central Limit Theorem Demonstration\\nSample Size: {sample_size}, Num Samples: {num_samples}')\n",
        "    plt.xlabel('Sample Mean')\n",
        "    plt.ylabel('Frequency')\n",
        "    plt.show()\n",
        "\n",
        "# Parameters\n",
        "sample_size = 30\n",
        "num_samples = 1000\n",
        "\n",
        "# Run CLT demonstration\n",
        "central_limit_theorem(sample_size, num_samples)\n"
      ],
      "metadata": {
        "id": "5sS7Doh_4Mn6"
      },
      "execution_count": null,
      "outputs": []
    },
    {
      "cell_type": "code",
      "source": [
        "#11.Simulate multiple samples from a normal distribution and verify the Central Limit Theorem."
      ],
      "metadata": {
        "id": "PaMJrrK04yOG"
      },
      "execution_count": null,
      "outputs": []
    },
    {
      "cell_type": "code",
      "source": [
        "#16.Write a Python function to calculate and plot the standard normal distribution (mean = 0, std = 1)\n",
        "import numpy as np\n",
        "import matplotlib.pyplot as plt\n",
        "\n",
        "def plot_standard_normal_distribution(num_samples=1000):\n",
        "    # Generate data points for x-axis (range of values)\n",
        "    x = np.linspace(-5, 5, num_samples)\n",
        "\n",
        "    # Calculate the probability density function (PDF) for standard normal distribution\n",
        "    y = (1 / np.sqrt(2 * np.pi)) * np.exp(-0.5 * x**2)\n",
        "\n",
        "    # Plot the standard normal distribution\n",
        "    plt.figure(figsize=(8, 6))\n",
        "    plt.plot(x, y, label='Standard Normal Distribution', color='b')\n",
        "    plt.title('Standard Normal Distribution')\n",
        "    plt.xlabel('X')\n",
        "    plt.ylabel('Probability Density')\n",
        "    plt.show()\n",
        "\n",
        "# Plot the standard normal distribution with default 1000 samples\n",
        "plot_standard_normal_distribution()\n"
      ],
      "metadata": {
        "id": "l62W9UvaTyxV"
      },
      "execution_count": null,
      "outputs": []
    },
    {
      "cell_type": "code",
      "source": [
        "#17.Generate random variables and calculate their corresponding probabilities using the binomial distribution\n",
        "import numpy as np\n",
        "import scipy.stats as stats\n",
        "\n",
        "def generate_binomial(n, p, size):\n",
        "\n",
        "    random_variables = np.random.binomial(n, p, size)\n",
        "    probabilities = stats.binom.pmf(random_variables, n, p)\n",
        "    return list(zip(random_variables, probabilities))\n",
        "\n",
        "# Parameters\n",
        "n = 10  # Number of trials\n",
        "p = 0.5  # Probability of success\n",
        "size = 5  # Number of random variables\n",
        "\n",
        "# Generate and display results\n",
        "results = generate_binomial(n, p, size)\n",
        "for rv, prob in results:\n",
        "    print(f\"X = {rv}, Probability = {prob:.4f}\")\n",
        "\n"
      ],
      "metadata": {
        "id": "DRZv5ImAUzRs"
      },
      "execution_count": null,
      "outputs": []
    },
    {
      "cell_type": "code",
      "source": [
        "#18.Write a Python program to calculate the Z-score for a given data point and compare it to a standard normal distribution\n",
        "import numpy as np\n",
        "import scipy.stats as stats\n",
        "\n",
        "def calculate_z_score(data, value):\n",
        "    mean = np.mean(data)\n",
        "    std_dev = np.std(data, ddof=1)  # Using sample standard deviation\n",
        "    z_score = (value - mean) / std_dev\n",
        "    return z_score\n",
        "\n",
        "def compare_to_standard_normal(z_score):\n",
        "    probability = stats.norm.cdf(z_score)\n",
        "    return probability\n",
        "\n",
        "def main():\n",
        "    data = list(map(float, input(\"Enter the dataset values separated by spaces: \").split()))\n",
        "    value = float(input(\"Enter the data point to compute the Z-score: \"))\n",
        "\n",
        "    z_score = calculate_z_score(data, value)\n",
        "    probability = compare_to_standard_normal(z_score)\n",
        "\n",
        "    print(f\"Z-score: {z_score:.4f}\")\n",
        "    print(f\"Probability of observing this value or lower in a standard normal distribution: {probability:.4f}\")\n",
        "\n",
        "if __name__ == \"__main__\":\n",
        "    main()\n"
      ],
      "metadata": {
        "id": "roATxgQtVSGZ"
      },
      "execution_count": null,
      "outputs": []
    },
    {
      "cell_type": "code",
      "source": [
        "#19.Implement hypothesis testing using Z-statistics for a sample dataset\n"
      ],
      "metadata": {
        "id": "EbDhpeOpVrcL"
      },
      "execution_count": null,
      "outputs": []
    },
    {
      "cell_type": "code",
      "source": [
        "#22. Write a Python script to calculate and visualize the probability density function (PDF) of a normal distribution\n",
        "import numpy as np\n",
        "import matplotlib.pyplot as plt\n",
        "from scipy.stats import norm\n",
        "\n",
        "# Define parameters for the normal distribution\n",
        "mean = 0      # Mean of the distribution\n",
        "std_dev = 1   # Standard deviation\n",
        "\n",
        "# Generate x values (range of data)\n",
        "x = np.linspace(mean - 4*std_dev, mean + 4*std_dev, 1000)\n",
        "\n",
        "# Compute the PDF values for each x value\n",
        "pdf = norm.pdf(x, mean, std_dev)\n",
        "\n",
        "# Plot the PDF\n",
        "plt.figure(figsize=(8, 5))\n",
        "plt.plot(x, pdf, label=f'Normal Distribution\n",
        "(mean={mean}, std_dev={std_dev})', color='b')\n",
        "plt.xlabel('X values')\n",
        "plt.ylabel('Probability Density')\n",
        "plt.title('Probability Density Function of Normal Distribution')\n",
        "plt.show()"
      ],
      "metadata": {
        "id": "OXrjmqqHWLyx"
      },
      "execution_count": null,
      "outputs": []
    },
    {
      "cell_type": "code",
      "source": [
        "#23. Use Python to calculate and interpret the cumulative distribution function (CDF) of a Poisson distribution\n",
        "import numpy as np\n",
        "import matplotlib.pyplot as plt\n",
        "from scipy.stats import poisson\n",
        "\n",
        "# Define lambda (average rate of events per time unit)\n",
        "lambda_ = 5  # Example: Average of 5 events per unit time\n",
        "\n",
        "# Define range of k values\n",
        "k_values = np.arange(0, 15)  # Evaluating CDF from 0 to 14\n",
        "\n",
        "# Compute CDF for each k\n",
        "cdf_values = poisson.cdf(k_values, lambda_)\n",
        "\n",
        "# Print some sample CDF values\n",
        "for k, cdf in zip(k_values, cdf_values):\n",
        "    print(f\"CDF at k={k}: {cdf:.4f}\")\n",
        "\n",
        "# Plot the CDF\n",
        "plt.step(k_values, cdf_values, where=\"mid\", color=\"b\", label=\"Poisson CDF\")\n",
        "plt.xlabel(\"Number of Events (k)\")\n",
        "plt.ylabel(\"Cumulative Probability\")\n",
        "plt.title(f\"Poisson CDF (λ={lambda_})\")\n",
        "\n",
        "plt.show()\n"
      ],
      "metadata": {
        "id": "d5anP7mjWlf4"
      },
      "execution_count": null,
      "outputs": []
    },
    {
      "cell_type": "code",
      "source": [
        "#25.Write a Python program to compare the standard deviations of two datasets and visualize the difference\n",
        "import numpy as np\n",
        "import matplotlib.pyplot as plt\n",
        "import seaborn as sns\n",
        "\n",
        "def compare_standard_deviation(data1, data2):\n",
        "    std_dev1 = np.std(data1, ddof=1)\n",
        "    std_dev2 = np.std(data2, ddof=1)\n",
        "\n",
        "    print(f\"Standard Deviation of Dataset 1: {std_dev1:.4f}\")\n",
        "    print(f\"Standard Deviation of Dataset 2: {std_dev2:.4f}\")\n",
        "\n",
        "    # Visualization\n",
        "    plt.figure(figsize=(12, 5))\n",
        "\n",
        "    # Histogram\n",
        "    plt.subplot(1, 2, 1)\n",
        "    sns.histplot(data1, bins=20, color='blue', alpha=0.5, label='Dataset 1', kde=True)\n",
        "    sns.histplot(data2, bins=20, color='red', alpha=0.5, label='Dataset 2', kde=True)\n",
        "    plt.legend()\n",
        "    plt.title(\"Histogram Comparison\")\n",
        "\n",
        "    # Box Plot\n",
        "    plt.subplot(1, 2, 2)\n",
        "    sns.boxplot(data=[data1, data2], palette=['blue', 'red'])\n",
        "    plt.xticks([0, 1], ['Dataset 1', 'Dataset 2'])\n",
        "    plt.title(\"Box Plot Comparison\")\n",
        "\n",
        "    plt.show()\n",
        "\n",
        "\n",
        "data1 = np.random.normal(50, 10, 1000)  # Mean=50, StdDev=10\n",
        "\\data2 = np.random.normal(50, 20, 1000)  # Mean=50, StdDev=20\n",
        "\n",
        "compare_standard_deviation(data1, data2)"
      ],
      "metadata": {
        "id": "I1sMhnPdXAHY"
      },
      "execution_count": null,
      "outputs": []
    },
    {
      "cell_type": "code",
      "source": [
        "#28. Write a Python function to calculate the skewness and kurtosis of a dataset generated from a normal distribution.\n",
        "import numpy as np\n",
        "import scipy.stats as stats\n",
        "\n",
        "def generate_normal_data(size=1000, mean=0, std=1):\n",
        "    \"\"\"Generates a dataset from a normal distribution.\"\"\"\n",
        "    return np.random.normal(loc=mean, scale=std, size=size)\n",
        "\n",
        "def calculate_skewness_kurtosis(data):\n",
        "    \"\"\"Calculates the skewness and kurtosis of a dataset.\"\"\"\n",
        "    skewness = stats.skew(data)\n",
        "    kurtosis = stats.kurtosis(data, fisher=True)  # Fisher's definition (subtracts 3)\n",
        "    return skewness, kurtosis\n",
        "\n",
        "data = generate_normal_data()\n",
        "skewness, kurtosis = calculate_skewness_kurtosis(data)\n",
        "print(f\"Skewness: {skewness}\")\n",
        "print(f\"Kurtosis: {kurtosis}\")\n"
      ],
      "metadata": {
        "id": "C43Aj2fnWlvY"
      },
      "execution_count": null,
      "outputs": []
    },
    {
      "cell_type": "markdown",
      "source": [],
      "metadata": {
        "id": "JSjG3FHeV_WJ"
      }
    }
  ]
}